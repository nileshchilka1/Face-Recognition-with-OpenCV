{
 "cells": [
  {
   "cell_type": "code",
   "execution_count": 1,
   "metadata": {},
   "outputs": [],
   "source": [
    "import cv2\n",
    "import os"
   ]
  },
  {
   "cell_type": "code",
   "execution_count": 2,
   "metadata": {},
   "outputs": [],
   "source": [
    "face_finder = cv2.CascadeClassifier('haarcascade_frontalface_default.xml')"
   ]
  },
  {
   "cell_type": "code",
   "execution_count": 3,
   "metadata": {},
   "outputs": [],
   "source": [
    "def face_extractor(img):\n",
    "    gray = cv2.cvtColor(img,cv2.COLOR_BGR2GRAY)\n",
    "    faces = face_finder.detectMultiScale(gray,1.3,5)\n",
    "    if faces is ():\n",
    "        return None\n",
    "    for x,y,w,h in faces:\n",
    "        cropped_image = img[y:y+h , x:x+w]\n",
    "    return cropped_image\n",
    "        \n",
    "    "
   ]
  },
  {
   "cell_type": "code",
   "execution_count": 4,
   "metadata": {},
   "outputs": [],
   "source": [
    "user_face = None\n",
    "def face_capture(name,location):\n",
    "    cap = cv2.VideoCapture(0)\n",
    "    count = 0\n",
    "    while count!=100:\n",
    "        ret,frame = cap.read()\n",
    "        user_face = face_extractor(frame)\n",
    "        if  user_face is not None:\n",
    "            user_face = cv2.resize(user_face,(200,200) )\n",
    "            user_face = cv2.cvtColor(user_face,cv2.COLOR_BGR2GRAY)\n",
    "            if os.path.exists(f'user_{name}'):\n",
    "                cv2.imwrite(f'user_{name}\\\\{location}-{count}.jpg',user_face)\n",
    "            else:\n",
    "                os.mkdir(f'user_{name}')\n",
    "                cv2.imwrite(f'user_{name}\\\\{location}-{count}.jpg',user_face)\n",
    "            cv2.putText(user_face,f'{count}',(8,23),cv2.FONT_HERSHEY_COMPLEX,1,(255,255,255),2)\n",
    "            cv2.imshow('webcam', user_face)\n",
    "            count+=1\n",
    "        else:\n",
    "            print('Face not Found')\n",
    "        \n",
    "        if cv2.waitKey(1) == 13:\n",
    "                break\n",
    "    \n",
    "    cap.release()\n",
    "    cv2.destroyAllWindows()\n",
    "    print('Samples collected')"
   ]
  },
  {
   "cell_type": "code",
   "execution_count": 5,
   "metadata": {},
   "outputs": [
    {
     "name": "stdout",
     "output_type": "stream",
     "text": [
      "Samples collected\n"
     ]
    }
   ],
   "source": [
    "face_capture('name',8) #Give user name & by changing location take 100 user images at different lightning conditions.    "
   ]
  },
  {
   "cell_type": "code",
   "execution_count": null,
   "metadata": {},
   "outputs": [],
   "source": []
  }
 ],
 "metadata": {
  "kernelspec": {
   "display_name": "Python 3",
   "language": "python",
   "name": "python3"
  },
  "language_info": {
   "codemirror_mode": {
    "name": "ipython",
    "version": 3
   },
   "file_extension": ".py",
   "mimetype": "text/x-python",
   "name": "python",
   "nbconvert_exporter": "python",
   "pygments_lexer": "ipython3",
   "version": "3.7.6"
  }
 },
 "nbformat": 4,
 "nbformat_minor": 4
}
